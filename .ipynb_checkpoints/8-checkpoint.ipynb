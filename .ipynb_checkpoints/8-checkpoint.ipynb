{
 "cells": [
  {
   "cell_type": "code",
   "execution_count": null,
   "id": "634483c3-b45d-472b-9834-e44263e887a8",
   "metadata": {},
   "outputs": [],
   "source": [
    "import pandas as pd"
   ]
  },
  {
   "cell_type": "code",
   "execution_count": null,
   "id": "2a3b4ed7-6de8-4f00-9045-749cc4d13a1e",
   "metadata": {},
   "outputs": [
    {
     "name": "stdout",
     "output_type": "stream",
     "text": [
      "--2025-07-14 01:35:55--  https://d3s0tskafalll9.cloudfront.net/media/documents/macbook_data.zip\n",
      "Resolving d3s0tskafalll9.cloudfront.net (d3s0tskafalll9.cloudfront.net)... 54.192.18.116, 54.192.18.125, 54.192.18.91, ...\n",
      "Connecting to d3s0tskafalll9.cloudfront.net (d3s0tskafalll9.cloudfront.net)|54.192.18.116|:443... connected.\n",
      "HTTP request sent, awaiting response... 200 OK\n",
      "Length: 204596 (200K) [application/zip]\n",
      "Saving to: ‘macbook_data.zip’\n",
      "\n",
      "macbook_data.zip    100%[===================>] 199.80K   904KB/s    in 0.2s    \n",
      "\n",
      "2025-07-14 01:35:56 (904 KB/s) - ‘macbook_data.zip’ saved [204596/204596]\n",
      "\n",
      "Archive:  macbook_data.zip\n",
      "replace /home/jovyan/work/bike_regression/data/macbook.csv? [y]es, [n]o, [A]ll, [N]one, [r]ename: "
     ]
    }
   ],
   "source": [
    "!mkdir -p ~/work/bike_regression\n",
    "!wget https://d3s0tskafalll9.cloudfront.net/media/documents/macbook_data.zip\n",
    "!unzip macbook_data.zip -d ~/work/bike_regression/"
   ]
  },
  {
   "cell_type": "code",
   "execution_count": null,
   "id": "668fe790-d915-43ce-9f7b-3998b1ccf1d7",
   "metadata": {},
   "outputs": [],
   "source": [
    "import os\n",
    "\n",
    "data_path = os.path.join(os.getenv('HOME'), 'work/bike_regression/data/macbook.csv')\n",
    "macbook = pd.read_csv(data_path)\n",
    "print(macbook.shape)\n",
    "macbook.head()"
   ]
  },
  {
   "cell_type": "code",
   "execution_count": null,
   "id": "a59e5b75-7197-4073-8b9c-ced4389c2b06",
   "metadata": {},
   "outputs": [],
   "source": [
    "import matplotlib.pyplot as plt\n",
    "# 실행한 브라우저에서 바로 그림을 볼 수 있게 해줌\n",
    "%matplotlib inline\n",
    "%config InlineBackend.figure_format = 'retina' # 더 높은 해상도로 출력한다.\n",
    "print(\"슝=3\")"
   ]
  },
  {
   "cell_type": "code",
   "execution_count": null,
   "id": "79b57567-bd78-4824-ba5f-82eb0339d8fa",
   "metadata": {},
   "outputs": [],
   "source": [
    "plt.scatter(macbook['used_years'], macbook['price'])\n",
    "plt.show()"
   ]
  },
  {
   "cell_type": "code",
   "execution_count": null,
   "id": "544035a7-00a6-43c8-968f-6fcc89478aa2",
   "metadata": {},
   "outputs": [],
   "source": []
  }
 ],
 "metadata": {
  "kernelspec": {
   "display_name": "Python 3 (ipykernel)",
   "language": "python",
   "name": "python3"
  },
  "language_info": {
   "codemirror_mode": {
    "name": "ipython",
    "version": 3
   },
   "file_extension": ".py",
   "mimetype": "text/x-python",
   "name": "python",
   "nbconvert_exporter": "python",
   "pygments_lexer": "ipython3",
   "version": "3.12.11"
  }
 },
 "nbformat": 4,
 "nbformat_minor": 5
}
